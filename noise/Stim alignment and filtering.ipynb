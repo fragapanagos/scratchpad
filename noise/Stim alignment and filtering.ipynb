{
 "metadata": {
  "name": "Stim alignment and filtering"
 },
 "nbformat": 3,
 "nbformat_minor": 0,
 "worksheets": [
  {
   "cells": [
    {
     "cell_type": "code",
     "collapsed": false,
     "input": [
      "import numpy as np\n",
      "import scipy.signal as signal"
     ],
     "language": "python",
     "metadata": {},
     "outputs": [],
     "prompt_number": 1
    },
    {
     "cell_type": "code",
     "collapsed": false,
     "input": [
      "# unit test utility functions\n",
      "def genStim(nstim, ndim=1):\n",
      "    stim_dt = np.arange(nstim+1)*tstim\n",
      "    stim_rates = np.random.randn(nstim, ndim)\n",
      "    return stim_dt, stim_rates\n",
      "\n",
      "def plotStimAndSample(stim_dt, stim_rates, sample_dt, sample_rates):\n",
      "    nstim = stim_rates.shape[0]\n",
      "    ndim = stim_rates.shape[1]\n",
      "    nsample = sample_rates.shape[0]\n",
      "    assert ndim == sample_rates.shape[1]\n",
      "    \n",
      "    stim_dt_toplot = np.zeros(nstim*2)\n",
      "    stim_dt_toplot[0:-1:2] = stim_dt[0:-1]\n",
      "    stim_dt_toplot[1::2]   = stim_dt[1::]\n",
      "    stim_rates_toplot = np.zeros((nstim*2,ndim))\n",
      "    stim_rates_toplot[0::2,:] = stim_rates\n",
      "    stim_rates_toplot[1::2,:]  = stim_rates\n",
      "    \n",
      "    sample_dt_toplot = np.zeros(nsample*2)\n",
      "    sample_dt_toplot[0::2] = sample_dt[0:-1]\n",
      "    sample_dt_toplot[1::2]   = sample_dt[1::]\n",
      "    sample_rates_toplot = np.zeros((nsample*2,ndim))\n",
      "    sample_rates_toplot[0::2,:] = sample_rates\n",
      "    sample_rates_toplot[1::2,:] = sample_rates\n",
      "    \n",
      "    plot(stim_dt_toplot, stim_rates_toplot)\n",
      "    plot(sample_dt_toplot, sample_rates_toplot, 'r-+', ms=12)"
     ],
     "language": "python",
     "metadata": {},
     "outputs": []
    },
    {
     "cell_type": "code",
     "collapsed": false,
     "input": [
      "# functions to test\n",
      "def resampleStim(stim_dt, stim_rates, tsample, nsample):\n",
      "    ndim = stim_rates.shape[1]\n",
      "    \n",
      "    sample_dt = np.arange(nsample+1)*tsample\n",
      "    sample_rates = np.zeros((nsample, ndim))\n",
      "\n",
      "    for i in range(len(sample_rates)):\n",
      "        sample_tstart = sample_dt[i]\n",
      "        sample_tstop  = sample_dt[i+1]\n",
      "        sample_start_idx = np.where(sample_tstart<stim_dt[1:])[0][0]\n",
      "        sample_stop_idx = np.where(sample_tstop>stim_dt[0:-1])[0][-1]\n",
      "        #print 'Sample %d goes from %0.2f to %.02f and covers Stim %d to %d'%(i, sample_tstart, sample_tstop, sample_start_idx, sample_stop_idx)\n",
      "        weights = np.ones(sample_stop_idx - sample_start_idx + 1) * tstim\n",
      "        weights[0] = stim_dt[sample_start_idx+1] - sample_tstart\n",
      "        weights[-1] = sample_tstop - stim_dt[sample_stop_idx]\n",
      "        sample_rates[i,:] = np.average(stim_rates[sample_start_idx:sample_stop_idx+1], weights=weights, axis=0)\n",
      "    \n",
      "    return sample_dt, sample_rates\n",
      "    \n",
      "def filterSamples(sample_rates, tsample, tau):\n",
      "    b = [1-np.exp(-tsample/tau)]\n",
      "    a = [1, -np.exp(-tsample/tau)]\n"
     ],
     "language": "python",
     "metadata": {},
     "outputs": [],
     "prompt_number": 99
    },
    {
     "cell_type": "code",
     "collapsed": false,
     "input": [
      "# scratpad for getting things to work\n",
      "tstim = .9\n",
      "tsample = 3.\n",
      "\n",
      "nstim = 4\n",
      "ndim = 2\n",
      "nsample = int(nstim*tstim/tsample)\n",
      "\n",
      "stim_dt = np.arange(nstim+1)*tstim\n",
      "stim_rates = np.random.randn(nstim, ndim)\n",
      "\n",
      "sample_dt, sample_rates = resampleStim(stim_dt, stim_rates, tsample, nsample)\n",
      "\n",
      "figure()\n",
      "plotStimAndSample(stim_dt, stim_rates, sample_dt, sample_rates)\n",
      "\n",
      "tight_layout()"
     ],
     "language": "python",
     "metadata": {},
     "outputs": [
      {
       "output_type": "display_data",
       "png": "[encoded data removed]"
      }
     ],
     "prompt_number": 100
    },
    {
     "cell_type": "code",
     "collapsed": false,
     "input": [
      "# samples aligned with stim\n",
      "tstim = 1.\n",
      "tsample = tstim\n",
      "nstim = 5\n",
      "nsample = nstim\n",
      "\n"
     ],
     "language": "python",
     "metadata": {},
     "outputs": []
    }
   ],
   "metadata": {}
  }
 ]
}