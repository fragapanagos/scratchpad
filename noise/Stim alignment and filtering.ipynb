{
 "metadata": {
  "name": "Stim alignment and filtering"
 },
 "nbformat": 3,
 "nbformat_minor": 0,
 "worksheets": [
  {
   "cells": [
    {
     "cell_type": "code",
     "collapsed": false,
     "input": [
      "import numpy as np\n",
      "import scipy.signal as signal"
     ],
     "language": "python",
     "metadata": {},
     "outputs": [],
     "prompt_number": 1
    },
    {
     "cell_type": "code",
     "collapsed": false,
     "input": [
      "# unit test utility functions\n",
      "def genStim(nstim, tstim, ndim=1):\n",
      "    assert nstim%1 == 0, \"must specify an integer number of stim\"\n",
      "    stim_dt = np.arange(nstim+1)*tstim\n",
      "    stim_rates = np.random.randn(nstim, ndim)\n",
      "    return stim_dt, stim_rates\n",
      "\n",
      "def genLoopback(nticks, tlb, dil_rate=2, maxTtoStart=.005, tlb_var=None):\n",
      "    measured_loopback_intervals = np.zeros(nticks)\n",
      "    measured_loopback_intervals[0] = maxTtoStart*np.random.rand()\n",
      "    measured_loopback_intervals[1:] = np.ones(nticks-1) * tlb * dil_rate\n",
      "    if tlb_var:\n",
      "        measured_loopback_intervals[1:] = measured_loopback_intervals[1:] + tlb_var * np.random.randn(nticks-1)\n",
      "    return measured_loopback_intervals\n",
      "\n",
      "def plotSequenceComparison(dt0, seq0, dt1, seq1, ls0=None, ls1='r--+'):\n",
      "    assert len(dt0)==seq0.shape[0]+1, \"length of first delta times must be length of first sequence + 1\"\n",
      "    assert len(dt1)==seq1.shape[0]+1, \"length of second delta times must be length of second sequence + 1\"\n",
      "    assert seq0.shape[1] == seq1.shape[1], \"sequences must have same dimentionality\"\n",
      "    \n",
      "    dt0_toplot = np.zeros(seq0.shape[0]*2)\n",
      "    dt0_toplot[0:-1:2] = dt0[0:-1]\n",
      "    dt0_toplot[1::2]   = dt0[1:]\n",
      "    seq0_toplot = np.zeros((seq0.shape[0]*2,ndim))\n",
      "    seq0_toplot[0::2,:] = seq0\n",
      "    seq0_toplot[1::2,:]  = seq0\n",
      "    \n",
      "    dt1_toplot = np.zeros(seq1.shape[0]*2)\n",
      "    dt1_toplot[0:-1:2] = dt1[0:-1]\n",
      "    dt1_toplot[1::2]   = dt1[1:]\n",
      "    seq1_toplot = np.zeros((seq1.shape[0]*2,ndim))\n",
      "    seq1_toplot[0::2,:] = seq1\n",
      "    seq1_toplot[1::2,:] = seq1\n",
      "    \n",
      "    plot(dt0_toplot, seq0_toplot)\n",
      "    plot(dt1_toplot, seq1_toplot, ls1, ms=12)\n",
      "    tight_layout()"
     ],
     "language": "python",
     "metadata": {},
     "outputs": [],
     "prompt_number": 21
    },
    {
     "cell_type": "code",
     "collapsed": false,
     "input": [
      "# functions to test\n",
      "def loopbackAlignStim(stim_dt, stim_rates, target_lb_interval, measured_lb_intervals):\n",
      "    assert len(stim_dt) == stim_rates.shape[0]+1, \"length of stim_dt times doesn't align to stim_rates data\"\n",
      "    \n",
      "    stim_dt_aligned = np.zeros(stim_dt.shape[0]) \n",
      "    stim_rates_aligned = np.zeros(stim_rates.shape)\n",
      "    \n",
      "    target_lb_dt = target_lb_interval * np.arange(len(measured_lb_intervals))\n",
      "    print 'target_lb_dt', target_lb_dt\n",
      "    \n",
      "    figure()\n",
      "    plotSequenceComparison(stim_dt, stim_rates, target_lb_dt, np.zeros((len(target_lb_dt)-1,1)), ls1='g--+')\n",
      "\n",
      "    # first entry in measured_loopback_intervals is time for stim to start\n",
      "    stim_dt_aligned[0] = measured_lb_intervals[0]    \n",
      "    \n",
      "    for dt in target_lb_dt[1:]:\n",
      "        pass\n",
      "    \n",
      "    return stim_dt_aligned, stim_rates_aligned\n",
      "\n",
      "def resampleStim(stim_dt, stim_rates, tsample, nsample):\n",
      "    assert tsample * nsample <= stim_dt[-1], \"not enough data for requested nsample and tsample\"\n",
      "    assert len(stim_dt) == stim_rates.shape[0] + 1, \"stim_dt times doesn't align to stim_rates data\"\n",
      "    assert nsample%1 == 0, \"must specify an integer number of samples, specified %f\"%nsample\n",
      "    ndim = stim_rates.shape[1]\n",
      "    \n",
      "    sample_dt = np.arange(nsample+1)*tsample\n",
      "    sample_rates = np.zeros((nsample, ndim))\n",
      "\n",
      "    for i in range(len(sample_rates)):\n",
      "        sample_tstart = sample_dt[i]\n",
      "        sample_tstop  = sample_dt[i+1]\n",
      "        sample_start_idx = np.where(sample_tstart<stim_dt[1:])[0][0]\n",
      "        sample_stop_idx = np.where(sample_tstop>stim_dt[0:-1])[0][-1]\n",
      "        #print 'Sample %d: %0.2f to %.02f, Stim %d to %d: %0.2f to %0.2f'%(i, sample_tstart, sample_tstop, sample_start_idx, sample_stop_idx, stim_dt[sample_start_idx], stim_dt[sample_stop_idx+1])\n",
      "        weights = np.ones(sample_stop_idx - sample_start_idx + 1) * tstim\n",
      "        weights[0] = stim_dt[sample_start_idx+1] - sample_tstart\n",
      "        weights[-1] = sample_tstop - stim_dt[sample_stop_idx]\n",
      "        sample_rates[i,:] = np.average(stim_rates[sample_start_idx:sample_stop_idx+1], weights=weights, axis=0)\n",
      "    \n",
      "    return sample_dt, sample_rates\n",
      "    \n",
      "def filterSamples(sample_rates, tsample, tau=.1):\n",
      "    b = [1-np.exp(-tsample/tau)]\n",
      "    a = [1, -np.exp(-tsample/tau)]\n",
      "    filtered_rates = signal.lfilter(b, a, sample_rates, axis=0)\n",
      "    return filtered_rates"
     ],
     "language": "python",
     "metadata": {},
     "outputs": [],
     "prompt_number": 24
    },
    {
     "cell_type": "code",
     "collapsed": false,
     "input": [
      "# scratpad for getting things to work\n",
      "tstim = .05\n",
      "tsample = .01\n",
      "\n",
      "nstim = 5\n",
      "ndim = 1\n",
      "nsample = int(nstim*tstim/tsample)\n",
      "\n",
      "nlbtick = 4\n",
      "target_lb_interval = .1\n",
      "dil_rate = 2\n",
      "lb_var = .01\n",
      "\n",
      "measured_lb_intervals = genLoopback(nlbtick, target_lb_interval, dil_rate, tlb_var=.01)\n",
      "print 'measured_lb_intervals', measured_lb_intervals\n",
      "\n",
      "stim_dt, stim_rates = genStim(nstim, tstim, ndim)\n",
      "\n",
      "stim_dt_aligned, stim_rates_aligned = loopbackAlignStim(stim_dt, stim_rates, target_lb_interval, measured_lb_intervals)\n",
      "\n",
      "sample_dt, sample_rates = resampleStim(stim_dt, stim_rates, tsample, nsample)\n",
      "\n",
      "sample_rates_filtered = filterSamples(sample_rates, tsample)\n",
      "figure()\n",
      "plotSequenceComparison(stim_dt, stim_rates, sample_dt, sample_rates)\n",
      "\n",
      "figure()\n",
      "plotSequenceComparison(sample_dt, sample_rates, sample_dt, sample_rates_filtered)"
     ],
     "language": "python",
     "metadata": {},
     "outputs": [
      {
       "output_type": "stream",
       "stream": "stdout",
       "text": [
        "measured_lb_intervals [ 0.00033348  0.21148165  0.20432642  0.21173011]\n",
        "target_lb_dt [ 0.   0.1  0.2  0.3]\n"
       ]
      },
      {
       "output_type": "display_data",
       "png": "[encoded data removed]"
      },
      {
       "output_type": "display_data",
       "png": "[encoded data removed]"
      },
      {
       "output_type": "display_data",
       "png": "[encoded data removed]"
      }
     ],
     "prompt_number": 29
    },
    {
     "cell_type": "code",
     "collapsed": false,
     "input": [
      "# samples aligned with stim\n",
      "tstim = 1.\n",
      "tsample = tstim\n",
      "nstim = 5\n",
      "nsample = nstim\n",
      "\n",
      "stim_dt, stim_rates = genStim(nstim, tstim)\n",
      "sample_dt, sample_rates = resampleStim(stim_dt, stim_rates, tsample, nsample)\n",
      "\n",
      "figure()\n",
      "plotSequenceComparison(stim_dt, stim_rates, sample_dt, sample_rates)"
     ],
     "language": "python",
     "metadata": {},
     "outputs": []
    },
    {
     "cell_type": "code",
     "collapsed": false,
     "input": [
      "# samples divide evenly in stim\n",
      "tstim = 1.\n",
      "tsample = tstim / 2.\n",
      "nstim = 5\n",
      "nsample = nstim*tstim/tsample\n",
      "\n",
      "stim_dt, stim_rates = genStim(nstim, tstim)\n",
      "sample_dt, sample_rates = resampleStim(stim_dt, stim_rates, tsample, nsample)\n",
      "\n",
      "figure()\n",
      "plotSequenceComparison(stim_dt, stim_rates, sample_dt, sample_rates)"
     ],
     "language": "python",
     "metadata": {},
     "outputs": []
    },
    {
     "cell_type": "code",
     "collapsed": false,
     "input": [
      "# stim divide evenly in sample\n",
      "tsample = 1.\n",
      "tstim = tsample / 2.\n",
      "nsample = 5\n",
      "nstim = nsample*tsample/tstim\n",
      "\n",
      "stim_dt, stim_rates = genStim(nstim, tstim)\n",
      "sample_dt, sample_rates = resampleStim(stim_dt, stim_rates, tsample, nsample)\n",
      "\n",
      "figure()\n",
      "plotSequenceComparison(stim_dt, stim_rates, sample_dt, sample_rates)"
     ],
     "language": "python",
     "metadata": {},
     "outputs": []
    },
    {
     "cell_type": "code",
     "collapsed": false,
     "input": [
      "# samples divide unevenly in stim\n",
      "tstim = 1.\n",
      "tsample = tstim * 2. / 3.\n",
      "nstim = 5\n",
      "nsample = floor(nstim*tstim/tsample)\n",
      "\n",
      "stim_dt, stim_rates = genStim(nstim, tstim)\n",
      "sample_dt, sample_rates = resampleStim(stim_dt, stim_rates, tsample, nsample)\n",
      "\n",
      "figure()\n",
      "plotSequenceComparison(stim_dt, stim_rates, sample_dt, sample_rates)"
     ],
     "language": "python",
     "metadata": {},
     "outputs": []
    },
    {
     "cell_type": "code",
     "collapsed": false,
     "input": [
      "# stim divide unevenly in samples\n",
      "tsample = 3.\n",
      "tstim = tsample * 2./3.\n",
      "nsample = 3\n",
      "nstim = ceil(nsample * tsample/tstim)\n",
      "\n",
      "stim_dt, stim_rates = genStim(nstim, tstim)\n",
      "sample_dt, sample_rates = resampleStim(stim_dt, stim_rates, tsample, nsample)\n",
      "\n",
      "figure()\n",
      "plotSequenceComparison(stim_dt, stim_rates, sample_dt, sample_rates)"
     ],
     "language": "python",
     "metadata": {},
     "outputs": []
    }
   ],
   "metadata": {}
  }
 ]
}